{
 "cells": [
  {
   "cell_type": "code",
   "execution_count": 1,
   "id": "1a8e4f1f-7fc9-45af-8c3a-a2f807f4b78c",
   "metadata": {},
   "outputs": [],
   "source": [
    "import json"
   ]
  },
  {
   "cell_type": "code",
   "execution_count": 2,
   "id": "8dcb9700-2c93-47de-8506-15acc0411ffe",
   "metadata": {},
   "outputs": [],
   "source": [
    "with open(\"dataset.json\", \"r\") as f:\n",
    "    datasets = json.load(f)"
   ]
  },
  {
   "cell_type": "code",
   "execution_count": 3,
   "id": "f54e41bd-48dd-40a5-b559-0d661f911c70",
   "metadata": {},
   "outputs": [],
   "source": [
    "from transformers import AutoModelForCausalLM, Trainer, TrainingArguments, AutoTokenizer\n",
    "from datasets import Dataset\n",
    "import torch"
   ]
  },
  {
   "cell_type": "code",
   "execution_count": 4,
   "id": "b996be1b-1c34-4997-999f-1c238ef93b2f",
   "metadata": {},
   "outputs": [],
   "source": [
    "model_name = \"rinna/japanese-gpt2-medium\""
   ]
  },
  {
   "cell_type": "markdown",
   "id": "e0ec37d8-07f7-45dd-975b-b8d346f00a32",
   "metadata": {},
   "source": [
    "#### モデルの選択\n",
    "\n",
    "rinna/japanese-gpt2-medium\n",
    "にしたのは、\n",
    "rinna/japanese-gpt-1b\n",
    "だと、GPUのスペック不足でtrain()が進行しなかったため。\n"
   ]
  },
  {
   "cell_type": "code",
   "execution_count": 5,
   "id": "7699c204-2088-42a0-9e1a-d7a4dff34e3c",
   "metadata": {},
   "outputs": [
    {
     "name": "stderr",
     "output_type": "stream",
     "text": [
      "You are using the default legacy behaviour of the <class 'transformers.models.t5.tokenization_t5.T5Tokenizer'>. This is expected, and simply means that the `legacy` (previous) behavior will be used so nothing changes for you. If you want to use the new behaviour, set `legacy=False`. This should only be set if you understand what it means, and thoroughly read the reason why this was added as explained in https://github.com/huggingface/transformers/pull/24565\n"
     ]
    }
   ],
   "source": [
    "tokenizer = AutoTokenizer.from_pretrained(model_name)"
   ]
  },
  {
   "cell_type": "code",
   "execution_count": 6,
   "id": "12a9aafb-06d0-485c-9890-461783cb7746",
   "metadata": {},
   "outputs": [],
   "source": [
    "model = AutoModelForCausalLM.from_pretrained(model_name)"
   ]
  },
  {
   "cell_type": "code",
   "execution_count": 7,
   "id": "f425bef7-7635-4cf5-944d-537603d66da5",
   "metadata": {},
   "outputs": [],
   "source": [
    "def tokenize_function(examples):\n",
    "    inputs = tokenizer(examples['input'], padding=\"max_length\", truncation=True, max_length=7)\n",
    "    labels = tokenizer(examples['output'], padding=\"max_length\", truncation=True, max_length=7)\n",
    "    inputs['labels'] = labels['input_ids']\n",
    "    return inputs"
   ]
  },
  {
   "cell_type": "markdown",
   "id": "2065daa6-9a89-43d5-a046-29a4b8a9dbd1",
   "metadata": {},
   "source": [
    "#### max_length\n",
    "\n",
    "7じゃないとエラーになった\n",
    "\n",
    "理由は不明・・・・"
   ]
  },
  {
   "cell_type": "code",
   "execution_count": 8,
   "id": "5eedefaa-cec5-430d-9071-c24cc183544e",
   "metadata": {},
   "outputs": [],
   "source": [
    "training_args = TrainingArguments(\n",
    "    output_dir='./results',\n",
    "    per_device_train_batch_size=4,\n",
    "    per_device_eval_batch_size=4,\n",
    "    num_train_epochs=3,\n",
    "    logging_dir='./logs'\n",
    ")"
   ]
  },
  {
   "cell_type": "code",
   "execution_count": 9,
   "id": "07b6d6e7-0dde-4a3e-a323-7454700784f8",
   "metadata": {},
   "outputs": [],
   "source": [
    "train_eval_border_index = round(len(datasets) * 0.8)"
   ]
  },
  {
   "cell_type": "code",
   "execution_count": 10,
   "id": "67238b3b-842e-4943-aebd-bce3a06ae650",
   "metadata": {},
   "outputs": [
    {
     "data": {
      "application/vnd.jupyter.widget-view+json": {
       "model_id": "b28f2a4c1cc84f169897519ad7541ff8",
       "version_major": 2,
       "version_minor": 0
      },
      "text/plain": [
       "Map:   0%|          | 0/2460 [00:00<?, ? examples/s]"
      ]
     },
     "metadata": {},
     "output_type": "display_data"
    },
    {
     "data": {
      "application/vnd.jupyter.widget-view+json": {
       "model_id": "23f4ed4fd07b4982b170c2cd2cd80d1c",
       "version_major": 2,
       "version_minor": 0
      },
      "text/plain": [
       "Map:   0%|          | 0/615 [00:00<?, ? examples/s]"
      ]
     },
     "metadata": {},
     "output_type": "display_data"
    }
   ],
   "source": [
    "train_dataset = Dataset.from_list(datasets[:train_eval_border_index]).map(tokenize_function, batched=True)\n",
    "eval_dataset = Dataset.from_list(datasets[train_eval_border_index:]).map(tokenize_function, batched=True)"
   ]
  },
  {
   "cell_type": "code",
   "execution_count": 11,
   "id": "3d5bbb1f-0dd8-44e9-bbbb-cf09305d1956",
   "metadata": {},
   "outputs": [],
   "source": [
    "trainer = Trainer(\n",
    "    model=model,\n",
    "    args=training_args,\n",
    "    train_dataset=train_dataset,\n",
    "    eval_dataset=eval_dataset\n",
    ")"
   ]
  },
  {
   "cell_type": "code",
   "execution_count": 12,
   "id": "be977022-1f41-4b70-a788-c34061620abc",
   "metadata": {},
   "outputs": [
    {
     "data": {
      "text/html": [
       "\n",
       "    <div>\n",
       "      \n",
       "      <progress value='1845' max='1845' style='width:300px; height:20px; vertical-align: middle;'></progress>\n",
       "      [1845/1845 04:44, Epoch 3/3]\n",
       "    </div>\n",
       "    <table border=\"1\" class=\"dataframe\">\n",
       "  <thead>\n",
       " <tr style=\"text-align: left;\">\n",
       "      <th>Step</th>\n",
       "      <th>Training Loss</th>\n",
       "    </tr>\n",
       "  </thead>\n",
       "  <tbody>\n",
       "    <tr>\n",
       "      <td>500</td>\n",
       "      <td>2.539700</td>\n",
       "    </tr>\n",
       "    <tr>\n",
       "      <td>1000</td>\n",
       "      <td>1.516800</td>\n",
       "    </tr>\n",
       "    <tr>\n",
       "      <td>1500</td>\n",
       "      <td>1.313000</td>\n",
       "    </tr>\n",
       "  </tbody>\n",
       "</table><p>"
      ],
      "text/plain": [
       "<IPython.core.display.HTML object>"
      ]
     },
     "metadata": {},
     "output_type": "display_data"
    },
    {
     "data": {
      "text/plain": [
       "TrainOutput(global_step=1845, training_loss=1.6907642230108824, metrics={'train_runtime': 285.06, 'train_samples_per_second': 25.889, 'train_steps_per_second': 6.472, 'total_flos': 93704448983040.0, 'train_loss': 1.6907642230108824, 'epoch': 3.0})"
      ]
     },
     "execution_count": 12,
     "metadata": {},
     "output_type": "execute_result"
    }
   ],
   "source": [
    "trainer.train()"
   ]
  },
  {
   "cell_type": "code",
   "execution_count": 13,
   "id": "6b3aaafe-4595-4a92-82b9-da6fbe19c2a0",
   "metadata": {},
   "outputs": [],
   "source": [
    "prompt = \"デオキシスのタイプを教えてください\""
   ]
  },
  {
   "cell_type": "code",
   "execution_count": 18,
   "id": "be8cc601-6879-472a-acc6-842b15618fdf",
   "metadata": {},
   "outputs": [
    {
     "name": "stdout",
     "output_type": "stream",
     "text": [
      "['デオキシスのタイプを教えてください|サイホーンのタイプは? エメラルドのタイプは? デオキシスのタイプは? ...のタイプは? もし、ご自身で確かめてみたいというのであれば、 デオキシスのタイプは?のタイプは?のタイプは、 このページの上のほうに、デオキシスのタイプをのせていますので、 見てみてください。 サイホーンのタイプは?のタイプは、']\n"
     ]
    }
   ],
   "source": [
    "if torch.cuda.is_available():\n",
    "    model = model.to(\"cuda\")\n",
    "\n",
    "input_ids = tokenizer.encode(prompt, return_tensors=\"pt\", add_special_tokens=False).to(\"cuda\")\n",
    "with torch.no_grad():\n",
    "    output = model.generate(\n",
    "        input_ids,\n",
    "        max_length=100, # 最長の文章長\n",
    "        min_length=100, # 最短の文章長\n",
    "        do_sample=True,\n",
    "        top_k=500, # 上位{top_k}個の文章を保持\n",
    "        top_p=0.95, # 上位{top_p}%の単語から選択する。例）上位95%の単語から選んでくる\n",
    "        pad_token_id=tokenizer.pad_token_id,\n",
    "    )\n",
    "decoded = tokenizer.batch_decode(output, skip_special_tokens=True)\n",
    "\n",
    "print(decoded)"
   ]
  },
  {
   "cell_type": "code",
   "execution_count": null,
   "id": "fe634801-815d-4f78-859d-5d4f2f0870dc",
   "metadata": {},
   "outputs": [],
   "source": []
  }
 ],
 "metadata": {
  "kernelspec": {
   "display_name": "Python 3 (ipykernel)",
   "language": "python",
   "name": "python3"
  },
  "language_info": {
   "codemirror_mode": {
    "name": "ipython",
    "version": 3
   },
   "file_extension": ".py",
   "mimetype": "text/x-python",
   "name": "python",
   "nbconvert_exporter": "python",
   "pygments_lexer": "ipython3",
   "version": "3.11.10"
  }
 },
 "nbformat": 4,
 "nbformat_minor": 5
}
